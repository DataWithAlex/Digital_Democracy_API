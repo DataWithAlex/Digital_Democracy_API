{
 "cells": [
  {
   "cell_type": "code",
   "execution_count": 1,
   "metadata": {},
   "outputs": [],
   "source": [
    "import re\n",
    "\n",
    "def format_slug(title):\n",
    "    junk_word_list = [\"did\", \"what\", \"where\", \"why\", \"how\", \"when\"]\n",
    "    first_pass = re.sub(r\"[^A-Za-z0-9 ]\", \"\", title)\n",
    "    words = first_pass.lower().split()\n",
    "    output = [word for word in words if word not in junk_word_list and len(word) > 2]\n",
    "    slug = '-'.join(output)\n",
    "    slug = slug.replace('--', '-')\n",
    "    slug = slug[:200]  # Trim to 200 characters\n",
    "    return slug\n"
   ]
  },
  {
   "cell_type": "code",
   "execution_count": 2,
   "metadata": {},
   "outputs": [],
   "source": [
    "import requests\n",
    "\n",
    "def create_webflow_item(api_key, site_id, collection_id, title, description):\n",
    "    url = f\"https://api.webflow.com/collections/{collection_id}/items\"\n",
    "    headers = {\n",
    "        \"Authorization\": f\"Bearer {api_key}\",\n",
    "        \"accept-version\": \"1.0.0\",\n",
    "        \"Content-Type\": \"application/json\",\n",
    "    }\n",
    "    slug = format_slug(title)\n",
    "    data = {\n",
    "        \"fields\": {\n",
    "            \"name\": title,\n",
    "            \"slug\": slug,\n",
    "            \"_archived\": False,\n",
    "            \"_draft\": False,\n",
    "            \"description\": description\n",
    "        }\n",
    "    }\n",
    "    \n",
    "    response = requests.post(url, json=data, headers=headers)\n",
    "    return response.json()\n"
   ]
  },
  {
   "cell_type": "code",
   "execution_count": 3,
   "metadata": {},
   "outputs": [
    {
     "name": "stdout",
     "output_type": "stream",
     "text": [
      "{'_cid': '6578d8f7184c99cedfe92ead', '_id': '65d3af8823e0bcac76938c4a', '_archived': False, '_draft': False, 'name': 'Test Bill Title', 'description': 'This is a test description of the bill.', 'slug': 'test-bill-title', 'updated-on': '2024-02-19T19:44:08.136Z', 'updated-by': 'Person_62d83e6adf07e958ee1fa597', 'created-on': '2024-02-19T19:44:08.136Z', 'created-by': 'Person_62d83e6adf07e958ee1fa597', 'published-on': None, 'published-by': None}\n"
     ]
    }
   ],
   "source": [
    "api_key = \"52687dcf3b9ccbb8bc5880be051c60f568a58e805d7c550b8fa575316f30c2c1\"\n",
    "site_id = \"62d84206d8adc10285c94e0a\"\n",
    "collection_id = \"6578d8f7184c99cedfe92ead\"  # Example: Bills collection ID\n",
    "title = \"Test Bill Title\"\n",
    "description = \"This is a test description of the bill.\"\n",
    "\n",
    "response = create_webflow_item(api_key, site_id, collection_id, title, description)\n",
    "print(response)\n"
   ]
  },
  {
   "cell_type": "code",
   "execution_count": 4,
   "metadata": {},
   "outputs": [
    {
     "name": "stdout",
     "output_type": "stream",
     "text": [
      "https://digitaldemocracyproject.org/bills-copy/test-bill-title\n"
     ]
    }
   ],
   "source": [
    "site_url = \"https://digitaldemocracyproject.org\"\n",
    "collection_slug = \"bills-copy\"  # Replace with your actual collection's slug if different\n",
    "item_slug = \"test-bill-title\"  # This should be dynamically retrieved from your creation response\n",
    "\n",
    "# Construct the URL\n",
    "item_url = f\"{site_url}/{collection_slug}/{item_slug}\"\n",
    "\n",
    "print(item_url)\n"
   ]
  },
  {
   "cell_type": "code",
   "execution_count": 5,
   "metadata": {},
   "outputs": [
    {
     "name": "stdout",
     "output_type": "stream",
     "text": [
      "{\"msg\":\"Route not found: /collections/6578d8f7184c99cedfe92ead/fields\",\"code\":404,\"name\":\"RouteNotFoundError\",\"path\":\"/collections/6578d8f7184c99cedfe92ead/fields\",\"err\":\"RouteNotFoundError: Route not found: /collections/6578d8f7184c99cedfe92ead/fields\",\"errorEnum\":\"RouteNotFound\",\"meta\":{\"code\":\"RouteNotFound\"}}\n"
     ]
    }
   ],
   "source": [
    "import requests\n",
    "\n",
    "# Define the API key, Site ID, and Collection ID\n",
    "api_key = \"52687dcf3b9ccbb8bc5880be051c60f568a58e805d7c550b8fa575316f30c2c1\"\n",
    "site_id = \"62d84206d8adc10285c94e0a\"\n",
    "collection_id = \"6578d8f7184c99cedfe92ead\"  # Example: Bills collection ID\n",
    "\n",
    "# The headers for authentication and content type\n",
    "headers = {\n",
    "    \"Authorization\": f\"Bearer {api_key}\",\n",
    "    \"accept-version\": \"1.0.0\",\n",
    "    \"Content-Type\": \"application/json\"\n",
    "}\n",
    "\n",
    "# The URL to the Webflow API endpoint for creating a new collection field\n",
    "url = f\"https://api.webflow.com/collections/{collection_id}/fields\"\n",
    "\n",
    "# The payload with the field details to be created\n",
    "# Replace 'new_field_name' and 'New Field Display Name' with the actual name and display name you want for the field\n",
    "payload = {\n",
    "    \"name\": \"new_field_name\",\n",
    "    \"type\": \"PlainText\",\n",
    "    \"required\": False,\n",
    "    \"editable\": True,\n",
    "    \"slug\": \"new-field-slug\",  # Replace with the slug for the new field\n",
    "    \"displayName\": \"New Field Display Name\"\n",
    "}\n",
    "\n",
    "# Make the POST request to the Webflow API\n",
    "response = requests.post(url, json=payload, headers=headers)\n",
    "\n",
    "# Print the response\n",
    "print(response.text)\n"
   ]
  },
  {
   "cell_type": "code",
   "execution_count": 6,
   "metadata": {},
   "outputs": [
    {
     "name": "stdout",
     "output_type": "stream",
     "text": [
      "{\"msg\":\"Route not found: /collections/6578d8f7184c99cedfe92ead/fields\",\"code\":404,\"name\":\"RouteNotFoundError\",\"path\":\"/collections/6578d8f7184c99cedfe92ead/fields\",\"err\":\"RouteNotFoundError: Route not found: /collections/6578d8f7184c99cedfe92ead/fields\",\"errorEnum\":\"RouteNotFound\",\"meta\":{\"code\":\"RouteNotFound\"}}\n"
     ]
    }
   ],
   "source": [
    "import requests\n",
    "\n",
    "# API key and Collection ID for the \"Bills Copy\" collection\n",
    "api_key = \"52687dcf3b9ccbb8bc5880be051c60f568a58e805d7c550b8fa575316f30c2c1\"\n",
    "collection_id = \"6578d8f7184c99cedfe92ead\"  # The Collection ID for \"Bills Copy\"\n",
    "\n",
    "# The headers for the request, including the Authorization token and content type\n",
    "headers = {\n",
    "    \"Authorization\": f\"Bearer {api_key}\",\n",
    "    \"accept-version\": \"1.0.0\",\n",
    "    \"Content-Type\": \"application/json\"\n",
    "}\n",
    "\n",
    "# The URL for the request, including the Collection ID\n",
    "url = f\"https://api.webflow.com/collections/{collection_id}/fields\"\n",
    "\n",
    "# The payload for the new field to create. Customize this payload as needed.\n",
    "payload = {\n",
    "    \"name\": \"Test Field\",\n",
    "    \"type\": \"PlainText\",\n",
    "    \"slug\": \"test-field\",\n",
    "    \"required\": False,\n",
    "    \"editable\": True,\n",
    "    \"validations\": {\"singleLine\": True}\n",
    "}\n",
    "\n",
    "# Make the POST request to create the new field\n",
    "response = requests.post(url, json=payload, headers=headers)\n",
    "\n",
    "# Print the response to see if it was successful\n",
    "print(response.text)\n"
   ]
  },
  {
   "cell_type": "code",
   "execution_count": 7,
   "metadata": {},
   "outputs": [
    {
     "name": "stdout",
     "output_type": "stream",
     "text": [
      "{\"message\":\"Request not authorized\",\"code\":\"not_authorized\",\"externalReference\":null,\"details\":[]}\n"
     ]
    }
   ],
   "source": [
    "import requests\n",
    "\n",
    "# API key and Collection ID for the \"Bills Copy\" collection\n",
    "api_key = \"52687dcf3b9ccbb8bc5880be051c60f568a58e805d7c550b8fa575316f30c2c1\"\n",
    "collection_id = \"6578d8f7184c99cedfe92ead\"  # The Collection ID for \"Bills Copy\"\n",
    "\n",
    "# The headers for the request, including the Authorization token and content type\n",
    "headers = {\n",
    "    \"Authorization\": f\"Bearer {api_key}\",\n",
    "    \"accept-version\": \"1.0.0\",\n",
    "    \"Content-Type\": \"application/json\"\n",
    "}\n",
    "\n",
    "# The correct URL for the request, including the Collection ID and the API version (v2)\n",
    "url = f\"https://api.webflow.com/v2/collections/{collection_id}/fields\"\n",
    "\n",
    "# The payload for the new field to create. Customize this payload as needed.\n",
    "payload = {\n",
    "    \"name\": \"Test Field\",\n",
    "    \"type\": \"PlainText\",\n",
    "    \"slug\": \"test-field\",\n",
    "    \"required\": False,\n",
    "    \"editable\": True,\n",
    "    \"validations\": {\"singleLine\": True}\n",
    "}\n",
    "\n",
    "# Make the POST request to create the new field\n",
    "response = requests.post(url, json=payload, headers=headers)\n",
    "\n",
    "# Print the response to see if it was successful\n",
    "print(response.text)\n"
   ]
  },
  {
   "cell_type": "code",
   "execution_count": 8,
   "metadata": {},
   "outputs": [
    {
     "name": "stdout",
     "output_type": "stream",
     "text": [
      "{'_id': '6578d8f7184c99cedfe92ead', 'lastUpdated': '2023-12-13T22:21:14.760Z', 'createdOn': '2023-12-12T22:04:39.285Z', 'name': 'Bills Copy', 'slug': 'bills-copy', 'singularName': 'Bill Copy', 'fields': [{'name': 'Description', 'slug': 'description', 'type': 'PlainText', 'required': False, 'editable': True, 'id': '64f166dcc7e895eeb1b480f00a6b5b48', 'validations': {'singleLine': False}}, {'name': 'voatzId', 'slug': 'voatzid', 'type': 'PlainText', 'required': False, 'editable': True, 'id': 'aa5bb3803fa03b9f08d72dfd27edb6e1', 'validations': {'singleLine': True}}, {'name': 'jurisdiction', 'slug': 'jurisdiction', 'type': 'ItemRef', 'required': False, 'editable': True, 'id': '946b36b72e58c8ed5172a2c3f8823b56', 'validations': {'collectionId': '655288ef928edb1283067319'}}, {'name': 'post-body', 'slug': 'post-body', 'type': 'RichText', 'required': False, 'editable': True, 'id': 'f543b9ffbd5bc620ac134d47a7ff02c1', 'validations': {}}, {'name': 'bill-score', 'slug': 'bill-score', 'type': 'Number', 'required': False, 'editable': True, 'id': '418ad4db342777eb7ebb5f75909e821e', 'validations': {'format': 'integer', 'precision': 1, 'allowNegative': False}}, {'name': 'Kialo URL', 'slug': 'kialo-url', 'type': 'Link', 'required': False, 'editable': True, 'id': 'b77929e0b28d6d6e0edd28c6b520ca23', 'validations': {}}, {'name': 'Category', 'slug': 'category', 'type': 'ItemRefSet', 'required': False, 'editable': True, 'id': '1ce5cef6a93e1c75e20916e359deb5a5', 'validations': {'collectionId': '655288ef928edb1283067318'}}, {'name': 'Legislators', 'slug': 'legislators-2', 'type': 'ItemRefSet', 'required': False, 'editable': True, 'id': 'c819f04264075944aca770ef27bafae3', 'validations': {'collectionId': '6578d935289c638f9a558493'}}, {'name': 'Companion', 'slug': 'companion', 'type': 'ItemRefSet', 'required': False, 'editable': True, 'id': '88d34a5197f94b2ede8da19aa37d5cd5', 'validations': {'collectionId': '655288ef928edb1283067256'}}, {'name': 'gov url', 'slug': 'gov-url', 'type': 'Link', 'required': False, 'editable': True, 'id': '1a11e51ab4954a9b30a417d70526eabc', 'validations': {}}, {'name': 'govid', 'slug': 'govid', 'type': 'PlainText', 'required': False, 'editable': True, 'id': 'd5e1b7af3d062ed70c91b6dfba8ce034', 'validations': {'singleLine': True}}, {'name': 'status', 'slug': 'status', 'type': 'PlainText', 'required': False, 'editable': True, 'id': '40135d34641a1e261c91f41471812093', 'validations': {'singleLine': True}}, {'name': 'session-year', 'slug': 'session-year-2', 'type': 'PlainText', 'required': False, 'editable': True, 'id': '7e3d3fc68e107c4e56632ea0cb0508de', 'validations': {'singleLine': True}}, {'name': 'Name', 'slug': 'name', 'type': 'PlainText', 'required': True, 'editable': True, 'id': 'cbfe5960a451d628336479cf08ba29dc', 'validations': {'maxLength': 256}}, {'name': 'Slug', 'slug': 'slug', 'type': 'PlainText', 'required': True, 'editable': True, 'unique': True, 'id': '54129d17ed2057f15407ab2b2a88f5ce', 'validations': {'maxLength': 256, 'pattern': {}, 'messages': {'pattern': 'Must be alphanumerical and not contain any spaces or special characters', 'maxLength': 'Must be less than 256 characters'}}}, {'name': 'Archived', 'slug': '_archived', 'type': 'Bool', 'required': True, 'editable': True, 'id': '841b8537beb7eecf32236c9fad32b16c', 'default': False}, {'name': 'Draft', 'slug': '_draft', 'type': 'Bool', 'required': True, 'editable': True, 'id': '220bb6f40a38c2ed4d955eac227a9f37', 'default': False}, {'name': 'Created On', 'slug': 'created-on', 'type': 'Date', 'required': False, 'editable': False, 'id': '9ce39f0b3311e2e70f7ed9c2a9337246'}, {'name': 'Updated On', 'slug': 'updated-on', 'type': 'Date', 'required': False, 'editable': False, 'id': 'e6598e37366bcd957697b31803846184'}, {'name': 'Published On', 'slug': 'published-on', 'type': 'Date', 'required': False, 'editable': False, 'id': '02a45dfd52cce153a12933cf4a423b39'}, {'name': 'Created By', 'slug': 'created-by', 'type': 'User', 'required': False, 'editable': False, 'id': 'ddb3599c0e4d79fee83ea31567650f34'}, {'name': 'Updated By', 'slug': 'updated-by', 'type': 'User', 'required': False, 'editable': False, 'id': '5128e6dca2c71520896402f384a49bb0'}, {'name': 'Published By', 'slug': 'published-by', 'type': 'User', 'required': False, 'editable': False, 'id': '2808d9b6be694545aa78c18eaf043da5'}]}\n"
     ]
    }
   ],
   "source": [
    "import requests\n",
    "\n",
    "# Given information by the user\n",
    "host = \"https://api.webflow.com\"\n",
    "api_key = \"52687dcf3b9ccbb8bc5880be051c60f568a58e805d7c550b8fa575316f30c2c1\"\n",
    "scBillsCollectionId = \"6578d8f7184c99cedfe92ead\"\n",
    "\n",
    "# Headers for authentication\n",
    "headers = {\n",
    "    'Authorization': f'Bearer {api_key}',\n",
    "    'accept-version': '1.0.0',\n",
    "    'Content-Type': 'application/json',\n",
    "    'accept': 'application/json'\n",
    "}\n",
    "\n",
    "# Endpoint to get details of the collection\n",
    "get_collection_details_endpoint = f\"{host}/collections/{scBillsCollectionId}\"\n",
    "\n",
    "# Making the GET request to retrieve the collection details\n",
    "response = requests.get(get_collection_details_endpoint, headers=headers)\n",
    "\n",
    "# Checking and handling the response\n",
    "if response.status_code == 200:\n",
    "    collection_details = response.json()\n",
    "    print(collection_details)\n",
    "else:\n",
    "    print(f\"Failed to get collection details: {response.status_code} - {response.text}\")\n"
   ]
  },
  {
   "cell_type": "code",
   "execution_count": 11,
   "metadata": {},
   "outputs": [
    {
     "ename": "TypeError",
     "evalue": "list indices must be integers or slices, not str",
     "output_type": "error",
     "traceback": [
      "\u001b[0;31m---------------------------------------------------------------------------\u001b[0m",
      "\u001b[0;31mTypeError\u001b[0m                                 Traceback (most recent call last)",
      "Cell \u001b[0;32mIn[11], line 1\u001b[0m\n\u001b[0;32m----> 1\u001b[0m collections \u001b[38;5;241m=\u001b[39m \u001b[43mresponse\u001b[49m\u001b[38;5;241;43m.\u001b[39;49m\u001b[43mjson\u001b[49m\u001b[43m(\u001b[49m\u001b[43m)\u001b[49m\u001b[43m[\u001b[49m\u001b[38;5;124;43m'\u001b[39;49m\u001b[38;5;124;43mcollections\u001b[39;49m\u001b[38;5;124;43m'\u001b[39;49m\u001b[43m]\u001b[49m  \u001b[38;5;66;03m# Assuming response.json() contains the collection data\u001b[39;00m\n\u001b[1;32m      3\u001b[0m \u001b[38;5;28mprint\u001b[39m(\u001b[38;5;124m\"\u001b[39m\u001b[38;5;124mList of Collections:\u001b[39m\u001b[38;5;124m\"\u001b[39m)\n\u001b[1;32m      4\u001b[0m \u001b[38;5;28;01mfor\u001b[39;00m collection \u001b[38;5;129;01min\u001b[39;00m collections:\n",
      "\u001b[0;31mTypeError\u001b[0m: list indices must be integers or slices, not str"
     ]
    }
   ],
   "source": [
    "collections = response.json()['collections']  # Assuming response.json() contains the collection data\n",
    "\n",
    "print(\"List of Collections:\")\n",
    "for collection in collections:\n",
    "    print(f\"ID: {collection['_id']}\")\n",
    "    print(f\"Name: {collection['name']}\")\n",
    "    print(f\"Slug: {collection['slug']}\")\n",
    "    print(f\"Singular Name: {collection['singularName']}\")\n",
    "    print(f\"Created On: {collection['createdOn']}\")\n",
    "    print(f\"Last Updated: {collection['lastUpdated']}\")\n",
    "    print(\"-\" * 40)  # Separator for readability\n"
   ]
  },
  {
   "cell_type": "code",
   "execution_count": null,
   "metadata": {},
   "outputs": [],
   "source": []
  },
  {
   "cell_type": "code",
   "execution_count": null,
   "metadata": {},
   "outputs": [],
   "source": []
  },
  {
   "cell_type": "code",
   "execution_count": null,
   "metadata": {},
   "outputs": [],
   "source": []
  },
  {
   "cell_type": "code",
   "execution_count": 12,
   "metadata": {},
   "outputs": [
    {
     "name": "stdout",
     "output_type": "stream",
     "text": [
      "Collection item created successfully, ID: 65d3ba502926e5d8704b2d72\n"
     ]
    }
   ],
   "source": [
    "import requests\n",
    "import json\n",
    "\n",
    "# Your provided information\n",
    "api_key = \"52687dcf3b9ccbb8bc5880be051c60f568a58e805d7c550b8fa575316f30c2c1\"\n",
    "scBillsCollectionId = \"6578d8f7184c99cedfe92ead\"\n",
    "site_id = \"62d84206d8adc10285c94e0a\"\n",
    "\n",
    "# Headers for authentication\n",
    "headers = {\n",
    "    'Authorization': f'Bearer {api_key}',\n",
    "    'accept-version': '1.0.0',\n",
    "    'Content-Type': 'application/json',\n",
    "    'accept': 'application/json'\n",
    "}\n",
    "\n",
    "# Data for the new collection item\n",
    "data = {\n",
    "    \"fields\": {\n",
    "        \"name\": \"alex_test_bill\",  # The title of the item\n",
    "        \"slug\": \"alex-test-bill\",  # The slug for the item\n",
    "        \"_archived\": False,\n",
    "        \"_draft\": False,  # Set to True if you want to create the item as a draft\n",
    "    }\n",
    "}\n",
    "\n",
    "# Endpoint to create a new collection item\n",
    "create_item_endpoint = f\"https://api.webflow.com/collections/{collection_id}/items\"\n",
    "\n",
    "# Making the POST request to create the collection item\n",
    "create_response = requests.post(create_item_endpoint, headers=headers, data=json.dumps(data))\n",
    "\n",
    "# Check the response and get the item ID\n",
    "if create_response.status_code in [200, 201]:\n",
    "    item_id = create_response.json()['_id']\n",
    "    print(\"Collection item created successfully, ID:\", item_id)\n",
    "else:\n",
    "    print(f\"Failed to create collection item: {create_response.status_code} - {create_response.text}\")\n",
    "    item_id = None\n"
   ]
  },
  {
   "cell_type": "code",
   "execution_count": 15,
   "metadata": {},
   "outputs": [
    {
     "name": "stdout",
     "output_type": "stream",
     "text": [
      "Item published successfully\n"
     ]
    }
   ],
   "source": [
    "import requests\n",
    "import json\n",
    "\n",
    "# Your provided information\n",
    "api_key = \"52687dcf3b9ccbb8bc5880be051c60f568a58e805d7c550b8fa575316f30c2c1\"\n",
    "site_id = \"62d84206d8adc10285c94e0a\"  # The site ID for which the item will be published\n",
    "item_id = \"65d3ba502926e5d8704b2d72\"  # The ID of the created item\n",
    "\n",
    "# Headers for authentication\n",
    "headers = {\n",
    "    'Authorization': f'Bearer {api_key}',\n",
    "    'accept-version': '1.0.0',\n",
    "    'Content-Type': 'application/json',\n",
    "    'accept': 'application/json'\n",
    "}\n",
    "\n",
    "# Data for publishing the item\n",
    "publish_data = {\n",
    "    \"domains\": [\"digitaldemocracyproject.org\"]  # Your actual domain\n",
    "}\n",
    "\n",
    "# Endpoint to publish the item(s)\n",
    "publish_endpoint = f\"https://api.webflow.com/sites/{site_id}/publish\"\n",
    "\n",
    "# Making the POST request to publish the item\n",
    "publish_response = requests.post(publish_endpoint, headers=headers, json=publish_data)\n",
    "\n",
    "# Check the response\n",
    "if publish_response.status_code == 200:\n",
    "    print(\"Item published successfully\")\n",
    "else:\n",
    "    print(f\"Failed to publish item: {publish_response.status_code} - {publish_response.text}\")\n"
   ]
  },
  {
   "cell_type": "code",
   "execution_count": 27,
   "metadata": {},
   "outputs": [
    {
     "name": "stdout",
     "output_type": "stream",
     "text": [
      "Draft collection item created successfully, ID: 65d3ca3c358dc598ac33add5\n"
     ]
    }
   ],
   "source": [
    "\n",
    "\n",
    "import requests\n",
    "import json\n",
    "\n",
    "# Your provided information\n",
    "\n",
    "collection_id = \"6578d8f7184c99cedfe92ead\"\n",
    "api_key = \"52687dcf3b9ccbb8bc5880be051c60f568a58e805d7c550b8fa575316f30c2c1\"\n",
    "site_id = \"62d84206d8adc10285c94e0a\"\n",
    "\n",
    "# Headers for authentication\n",
    "headers = {\n",
    "    'Authorization': f'Bearer {api_key}',\n",
    "    'accept-version': '1.0.0',\n",
    "    'Content-Type': 'application/json',\n",
    "    'accept': 'application/json'\n",
    "}\n",
    "\n",
    "# Data for the new collection item\n",
    "data = {\n",
    "    \"fields\": {\n",
    "        \"name\": \"Sb 60\",  # Replace with actual bill title\n",
    "        \"slug\": \"Sb-60\",  # Replace with actual bill slug\n",
    "        \"post-body\": \"The bill directs the Department of Highway Safety and Motor Vehicles to create a General Aviation license plate, specifying its design and use of fees collected from its sale. The fees collected will be distributed to the Aerospace Center for Excellence in Lakeland to fund scholarships for students pursuing aviation careers, with a portion allocated for administrative costs. The bill will take effect on October 1, 2024.\",  # Replace with actual content\n",
    "        \"jurisdiction\": \"\",  # Replace with actual Florida jurisdiction item ID\n",
    "        \"voatzid\": \"\",  # Can be left empty or filled with bogus data\n",
    "        \"session-year-2\": \"\",  # Replace with a session item ID from Webflow\n",
    "        \"kialo-url\": \"https://www.kialo.com/p/cdd1e828-084a-4eba-af0f-86260e5440ba/65230?path=65230.0~65230.3&active=~65230.3\",  # Replace with actual Kialo URL\n",
    "        \"gov-url\": \"https://government-link-here.com\",  # Replace with actual government URL\n",
    "        \"bill-score\": 1.0,  # Replace with actual bill score if available\n",
    "        \"description\": \"The bill directs the Department of Highway Safety and Motor Vehicles to create a General Aviation license plate, specifying its design and use of fees collected from its sale. The fees collected will be distributed to the Aerospace Center for Excellence in Lakeland to fund scholarships for students pursuing aviation careers, with a portion allocated for administrative costs. The bill will take effect on October 1, 2024.\",\n",
    "        \"_draft\": False,  \n",
    "        \"_archived\": False\n",
    "    }\n",
    "}\n",
    "\n",
    "# Endpoint to create a new collection item\n",
    "create_item_endpoint = f\"https://api.webflow.com/collections/{collection_id}/items\"\n",
    "\n",
    "# Making the POST request to create the collection item\n",
    "create_response = requests.post(create_item_endpoint, headers=headers, data=json.dumps(data))\n",
    "\n",
    "# Check the response and get the item ID\n",
    "if create_response.status_code in [200, 201]:\n",
    "    item_id = create_response.json()['_id']\n",
    "    print(\"Draft collection item created successfully, ID:\", item_id)\n",
    "else:\n",
    "    print(f\"Failed to create draft collection item: {create_response.status_code} - {create_response.text}\")\n",
    "\n",
    "\n"
   ]
  },
  {
   "cell_type": "code",
   "execution_count": 28,
   "metadata": {},
   "outputs": [
    {
     "name": "stdout",
     "output_type": "stream",
     "text": [
      "Item published successfully\n"
     ]
    }
   ],
   "source": [
    "import requests\n",
    "import json\n",
    "\n",
    "# Your provided information\n",
    "api_key = \"52687dcf3b9ccbb8bc5880be051c60f568a58e805d7c550b8fa575316f30c2c1\"\n",
    "site_id = \"62d84206d8adc10285c94e0a\"  # The site ID for which the item will be published\n",
    "item_id = \"65d3ca3c358dc598ac33add5\"  # The ID of the created item\n",
    "\n",
    "# Headers for authentication\n",
    "headers = {\n",
    "    'Authorization': f'Bearer {api_key}',\n",
    "    'accept-version': '1.0.0',\n",
    "    'Content-Type': 'application/json',\n",
    "    'accept': 'application/json'\n",
    "}\n",
    "\n",
    "# Data for publishing the item\n",
    "publish_data = {\n",
    "    \"domains\": [\"digitaldemocracyproject.org\"]  # Your actual domain\n",
    "}\n",
    "\n",
    "# Endpoint to publish the item(s)\n",
    "publish_endpoint = f\"https://api.webflow.com/sites/{site_id}/publish\"\n",
    "\n",
    "# Making the POST request to publish the item\n",
    "publish_response = requests.post(publish_endpoint, headers=headers, json=publish_data)\n",
    "\n",
    "# Check the response\n",
    "if publish_response.status_code == 200:\n",
    "    print(\"Item published successfully\")\n",
    "else:\n",
    "    print(f\"Failed to publish item: {publish_response.status_code} - {publish_response.text}\")\n"
   ]
  },
  {
   "cell_type": "code",
   "execution_count": 29,
   "metadata": {},
   "outputs": [
    {
     "name": "stdout",
     "output_type": "stream",
     "text": [
      "{\"items\":[{\"_cid\":\"6578d8f7184c99cedfe92ead\",\"_id\":\"65d3ca3c358dc598ac33add5\",\"kialo-url\":\"https://www.kialo.com/p/cdd1e828-084a-4eba-af0f-86260e5440ba/65230?path=65230.0~65230.3&active=~65230.3\",\"gov-url\":\"https://government-link-here.com\",\"_draft\":false,\"_archived\":false,\"jurisdiction\":null,\"voatzid\":null,\"session-year-2\":null,\"bill-score\":1,\"name\":\"Sb 60\",\"post-body\":\"The bill directs the Department of Highway Safety and Motor Vehicles to create a General Aviation license plate, specifying its design and use of fees collected from its sale. The fees collected will be distributed to the Aerospace Center for Excellence in Lakeland to fund scholarships for students pursuing aviation careers, with a portion allocated for administrative costs. The bill will take effect on October 1, 2024.\",\"description\":\"The bill directs the Department of Highway Safety and Motor Vehicles to create a General Aviation license plate, specifying its design and use of fees collected from its sale. The fees collected will be distributed to the Aerospace Center for Excellence in Lakeland to fund scholarships for students pursuing aviation careers, with a portion allocated for administrative costs. The bill will take effect on October 1, 2024.\",\"slug\":\"Sb-60\",\"updated-on\":\"2024-02-19T21:38:04.741Z\",\"updated-by\":\"Person_62d83e6adf07e958ee1fa597\",\"created-on\":\"2024-02-19T21:38:04.741Z\",\"created-by\":\"Person_62d83e6adf07e958ee1fa597\",\"published-on\":\"2024-02-19T21:38:18.977Z\",\"published-by\":\"Person_62d83e6adf07e958ee1fa597\"}],\"count\":1,\"limit\":100,\"offset\":0,\"total\":1}\n"
     ]
    }
   ],
   "source": [
    "import requests\n",
    "\n",
    "# Provided information\n",
    "api_key = \"52687dcf3b9ccbb8bc5880be051c60f568a58e805d7c550b8fa575316f30c2c1\"\n",
    "collection_id = \"6578d8f7184c99cedfe92ead\"  # Replace with your actual collection ID\n",
    "item_id = \"65d3ca3c358dc598ac33add5\"  # The ID of the collection item you want to retrieve\n",
    "\n",
    "# Headers for authentication\n",
    "headers = {\n",
    "    \"accept\": \"application/json\",\n",
    "    \"authorization\": f\"Bearer {api_key}\"\n",
    "}\n",
    "\n",
    "# URL for the Webflow API request to get a specific collection item\n",
    "url = f\"https://api.webflow.com/collections/{collection_id}/items/{item_id}\"\n",
    "\n",
    "# Make the GET request to retrieve the collection item\n",
    "response = requests.get(url, headers=headers)\n",
    "\n",
    "# Print the response\n",
    "print(response.text)\n"
   ]
  },
  {
   "cell_type": "code",
   "execution_count": null,
   "metadata": {},
   "outputs": [],
   "source": []
  }
 ],
 "metadata": {
  "kernelspec": {
   "display_name": "myenv",
   "language": "python",
   "name": "python3"
  },
  "language_info": {
   "codemirror_mode": {
    "name": "ipython",
    "version": 3
   },
   "file_extension": ".py",
   "mimetype": "text/x-python",
   "name": "python",
   "nbconvert_exporter": "python",
   "pygments_lexer": "ipython3",
   "version": "3.12.1"
  }
 },
 "nbformat": 4,
 "nbformat_minor": 2
}
